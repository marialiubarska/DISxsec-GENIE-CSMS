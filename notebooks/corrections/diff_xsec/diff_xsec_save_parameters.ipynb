{
 "cells": [
  {
   "cell_type": "code",
   "execution_count": 1,
   "metadata": {},
   "outputs": [],
   "source": [
    "import numpy as np\n",
    "import pickle\n",
    "\n",
    "%matplotlib inline"
   ]
  },
  {
   "cell_type": "code",
   "execution_count": 2,
   "metadata": {},
   "outputs": [],
   "source": [
    "np_load_old = np.load\n",
    "np.load = lambda *a,**k: np_load_old(*a, allow_pickle=True, **k)"
   ]
  },
  {
   "cell_type": "markdown",
   "metadata": {},
   "source": [
    "# constants and paths"
   ]
  },
  {
   "cell_type": "code",
   "execution_count": 3,
   "metadata": {},
   "outputs": [],
   "source": [
    "Emin = 2."
   ]
  },
  {
   "cell_type": "code",
   "execution_count": 4,
   "metadata": {},
   "outputs": [],
   "source": [
    "pth0 = '/home/maria/IceCube/crosssections/Genie_Maria/npy_genie_with_nu_position_flat_Wcut0/NuMu/NuMu_genie_I3GENIEResultDict'\n",
    "# pth17 = '/home/maria/IceCube/crosssections/Genie_Maria/Nov5/test_npy_Wcut1.7/NuMu_genie_I3GENIEResultDict'\n",
    "pthNG = '/home/maria/IceCube/crosssections/NuGen_Maria/'"
   ]
  },
  {
   "cell_type": "markdown",
   "metadata": {},
   "source": [
    "# read files"
   ]
  },
  {
   "cell_type": "code",
   "execution_count": 5,
   "metadata": {},
   "outputs": [],
   "source": [
    "def read_my_npy_all(pth, name, pref):\n",
    "    a = np.load(pth+pref[0]+name)[0]\n",
    "    \n",
    "    for i in range(1,len(pref)):\n",
    "        try:\n",
    "            b = np.load(pth+pref[i]+name)[0]\n",
    "            for k in a.keys():\n",
    "                a[k] = np.concatenate((a[k],b[k]))\n",
    "        except:\n",
    "            print 'file', pref[i]+name, 'doesn`t exists '\n",
    "            \n",
    "    return a"
   ]
  },
  {
   "cell_type": "code",
   "execution_count": 6,
   "metadata": {},
   "outputs": [],
   "source": [
    "pref = ['{:0004d}'.format(i) for i in range(0,300)]\n",
    "v_genie = read_my_npy_all(pth0,'.npy',pref)"
   ]
  },
  {
   "cell_type": "code",
   "execution_count": 7,
   "metadata": {},
   "outputs": [],
   "source": [
    "v_nugen = np.load(pthNG+'NuGen_vars_Dec10_csms_diff_big_flat_sample_500.npy')[0]"
   ]
  },
  {
   "cell_type": "code",
   "execution_count": 8,
   "metadata": {},
   "outputs": [],
   "source": [
    "for k in v_genie.keys():\n",
    "    v_genie[k] = np.array(v_genie[k])\n",
    "for k in v_nugen.keys():\n",
    "    v_nugen[k] = np.array(v_nugen[k])"
   ]
  },
  {
   "cell_type": "code",
   "execution_count": 9,
   "metadata": {},
   "outputs": [],
   "source": [
    "one_weight0 = np.array(v_genie['one_weight'])/float(len(v_genie['one_weight']))\n",
    "\n",
    "ind_nu0 = np.transpose(np.argwhere(v_genie['neu'] == 14))[0]\n",
    "ind_nubar0 = np.transpose(np.argwhere(v_genie['neu'] == -14))[0]\n",
    "\n",
    "one_weight0[ind_nu0] = one_weight0[ind_nu0]/0.7\n",
    "one_weight0[ind_nubar0] = one_weight0[ind_nubar0]/0.3"
   ]
  },
  {
   "cell_type": "code",
   "execution_count": 10,
   "metadata": {},
   "outputs": [],
   "source": [
    "one_weight_nugen = np.array(v_nugen['one_weight'])/float(len(v_nugen['one_weight']))\n",
    "\n",
    "ind_nu0 = np.transpose(np.argwhere(v_nugen['pid'] == 14))[0]\n",
    "ind_nubar0 = np.transpose(np.argwhere(v_nugen['pid'] == -14))[0]\n",
    "\n",
    "one_weight_nugen[ind_nu0] = one_weight_nugen[ind_nu0]/0.7\n",
    "one_weight_nugen[ind_nubar0] = one_weight_nugen[ind_nubar0]/0.3"
   ]
  },
  {
   "cell_type": "markdown",
   "metadata": {},
   "source": [
    "# selection"
   ]
  },
  {
   "cell_type": "code",
   "execution_count": 11,
   "metadata": {},
   "outputs": [],
   "source": [
    "nu = 14\n",
    "\n",
    "ind_nugen_numu = np.transpose(np.argwhere(v_nugen['pid']==nu))[0]\n",
    "ind_nugen_anti_numu = np.transpose(np.argwhere(v_nugen['pid']==(-1)*nu))[0]\n",
    "\n",
    "ind_nugen_numu_i1 = ind_nugen_numu[np.transpose(np.argwhere(\n",
    "    v_nugen['int_type'][ind_nugen_numu]==1))[0]]\n",
    "ind_nugen_numu_i2 = ind_nugen_numu[np.transpose(np.argwhere(\n",
    "    v_nugen['int_type'][ind_nugen_numu]==2))[0]]\n",
    "ind_nugen_anti_numu_i1 = ind_nugen_anti_numu[np.transpose(np.argwhere(\n",
    "    v_nugen['int_type'][ind_nugen_anti_numu]==1))[0]]\n",
    "ind_nugen_anti_numu_i2 = ind_nugen_anti_numu[np.transpose(np.argwhere(\n",
    "    v_nugen['int_type'][ind_nugen_anti_numu]==2))[0]]"
   ]
  },
  {
   "cell_type": "code",
   "execution_count": 12,
   "metadata": {},
   "outputs": [],
   "source": [
    "def sel_by_key(dict_arrs, keys, keys_vals):\n",
    "    ind0 = np.arange(0,len(dict_arrs[keys[0]]))\n",
    "    for i in range(len(keys)):\n",
    "        ind1 = np.transpose(np.argwhere(dict_arrs[keys[i]][ind0]==keys_vals[i]))[0]\n",
    "        ind0 = ind0[ind1]\n",
    "#     print 'final len:', len(ind0)\n",
    "    return ind0\n",
    "def ind_nucl(A, nu_type, cc=True):\n",
    "    \n",
    "    genie_sel_keys_list = ['dis',\n",
    "                            'cc',\n",
    "                            'neu',\n",
    "                            'hitnuc',\n",
    "                            'A',\n",
    "                            'hitqrk',\n",
    "                            'sea',\n",
    "                            'charm',\n",
    "]\n",
    "    \n",
    "    ind = []\n",
    "    for hitnuc in [2212,2112]:\n",
    "        for ch in [True,False]:\n",
    "            for sea in [True,False]:\n",
    "                for i in [-6,-5,-4,-3,-2,-1,1,2,3,4,5,6]:\n",
    "                        genie_sel_keys_vals = [True,\n",
    "                                              cc,\n",
    "                                              nu_type,\n",
    "                                              hitnuc,\n",
    "                                              A,\n",
    "                                              i,\n",
    "                                              sea,\n",
    "                                              ch,\n",
    "                                              ]\n",
    "                        ind.append(sel_by_key(v_genie,genie_sel_keys_list,genie_sel_keys_vals))\n",
    "\n",
    "    return ind"
   ]
  },
  {
   "cell_type": "code",
   "execution_count": 13,
   "metadata": {},
   "outputs": [],
   "source": [
    "ind_NuMu_CC_O_p = ind_nucl(A=16, nu_type=14)\n",
    "ind_NuMu_NC_O_p = ind_nucl(A=16, nu_type=14, cc=False)\n",
    "ind_NuMu_Bar_CC_O_p = ind_nucl(A=16, nu_type=-14)\n",
    "ind_NuMu_Bar_NC_O_p = ind_nucl(A=16, nu_type=-14, cc=False)\n",
    "\n",
    "ind_NuMu_CC_O_p_conc = np.concatenate(ind_NuMu_CC_O_p)\n",
    "ind_NuMu_NC_O_p_conc = np.concatenate(ind_NuMu_NC_O_p)\n",
    "ind_NuMu_Bar_CC_O_p_conc = np.concatenate(ind_NuMu_Bar_CC_O_p)\n",
    "ind_NuMu_Bar_NC_O_p_conc = np.concatenate(ind_NuMu_Bar_NC_O_p)\n",
    "ind_all_conc_genie = np.concatenate((ind_NuMu_CC_O_p_conc,ind_NuMu_NC_O_p_conc,\n",
    "                                     ind_NuMu_Bar_CC_O_p_conc,ind_NuMu_Bar_NC_O_p_conc))"
   ]
  },
  {
   "cell_type": "code",
   "execution_count": 14,
   "metadata": {},
   "outputs": [],
   "source": [
    "ind_del_genie = np.delete(np.arange(len(v_genie['Ev'])), ind_all_conc_genie)\n",
    "for k in v_genie.keys():\n",
    "    v_genie[k] = np.delete(v_genie[k], ind_del_genie)"
   ]
  },
  {
   "cell_type": "code",
   "execution_count": 15,
   "metadata": {},
   "outputs": [],
   "source": [
    "ind_Q2_cut = np.transpose(np.argwhere(v_genie['Q2'] < 1.))[0]\n",
    "for k in v_genie.keys():\n",
    "    v_genie[k] = np.delete(v_genie[k], ind_Q2_cut)"
   ]
  },
  {
   "cell_type": "code",
   "execution_count": 16,
   "metadata": {},
   "outputs": [],
   "source": [
    "ind_del_genie = []\n",
    "ind_Q2_cut = []"
   ]
  },
  {
   "cell_type": "code",
   "execution_count": 17,
   "metadata": {},
   "outputs": [],
   "source": [
    "ind_NuMu_CC_O_p = ind_nucl(A=16, nu_type=14)\n",
    "ind_NuMu_NC_O_p = ind_nucl(A=16, nu_type=14, cc=False)\n",
    "ind_NuMu_Bar_CC_O_p = ind_nucl(A=16, nu_type=-14)\n",
    "ind_NuMu_Bar_NC_O_p = ind_nucl(A=16, nu_type=-14, cc=False)\n",
    "\n",
    "ind_NuMu_CC_O_p_conc = np.concatenate(ind_NuMu_CC_O_p)\n",
    "ind_NuMu_NC_O_p_conc = np.concatenate(ind_NuMu_NC_O_p)\n",
    "ind_NuMu_Bar_CC_O_p_conc = np.concatenate(ind_NuMu_Bar_CC_O_p)\n",
    "ind_NuMu_Bar_NC_O_p_conc = np.concatenate(ind_NuMu_Bar_NC_O_p)\n",
    "ind_all_conc_genie = np.concatenate((ind_NuMu_CC_O_p_conc,ind_NuMu_NC_O_p_conc,\n",
    "                                     ind_NuMu_Bar_CC_O_p_conc,ind_NuMu_Bar_NC_O_p_conc))"
   ]
  },
  {
   "cell_type": "code",
   "execution_count": 18,
   "metadata": {},
   "outputs": [
    {
     "name": "stderr",
     "output_type": "stream",
     "text": [
      "/home/maria/.local/lib/python2.7/site-packages/ipykernel_launcher.py:5: RuntimeWarning: invalid value encountered in log10\n",
      "  \"\"\"\n"
     ]
    }
   ],
   "source": [
    "lgE_genie = np.log10(v_genie['Ev'])\n",
    "lgY_genie = np.log10(v_genie['ys'])\n",
    "\n",
    "lgE_nugen = np.log10(v_nugen['prim_en'])\n",
    "lgY_nugen = np.log10(v_nugen['y'])\n",
    "\n",
    "Y_genie = v_genie['ys']\n",
    "Y_nugen = v_nugen['y']"
   ]
  },
  {
   "cell_type": "code",
   "execution_count": 19,
   "metadata": {},
   "outputs": [],
   "source": [
    "one_weight0 = np.array(v_genie['one_weight'])/float(len(v_genie['one_weight']))\n",
    "\n",
    "ind_nu0 = np.transpose(np.argwhere(v_genie['neu'] == 14))[0]\n",
    "ind_nubar0 = np.transpose(np.argwhere(v_genie['neu'] == -14))[0]\n",
    "\n",
    "one_weight0[ind_nu0] = one_weight0[ind_nu0]/0.7\n",
    "one_weight0[ind_nubar0] = one_weight0[ind_nubar0]/0.3"
   ]
  },
  {
   "cell_type": "code",
   "execution_count": 20,
   "metadata": {},
   "outputs": [],
   "source": [
    "one_weight_nugen = np.array(v_nugen['one_weight'])/float(len(v_nugen['one_weight']))\n",
    "\n",
    "ind_nu0 = np.transpose(np.argwhere(v_nugen['pid'] == 14))[0]\n",
    "ind_nubar0 = np.transpose(np.argwhere(v_nugen['pid'] == -14))[0]\n",
    "\n",
    "one_weight_nugen[ind_nu0] = one_weight_nugen[ind_nu0]/0.7\n",
    "one_weight_nugen[ind_nubar0] = one_weight_nugen[ind_nubar0]/0.3"
   ]
  },
  {
   "cell_type": "code",
   "execution_count": 21,
   "metadata": {},
   "outputs": [],
   "source": [
    "nu = 14\n",
    "\n",
    "ind_nugen_numu = np.transpose(np.argwhere(v_nugen['pid']==nu))[0]\n",
    "ind_nugen_anti_numu = np.transpose(np.argwhere(v_nugen['pid']==(-1)*nu))[0]\n",
    "\n",
    "ind_nugen_numu_i1 = ind_nugen_numu[np.transpose(np.argwhere(\n",
    "    v_nugen['int_type'][ind_nugen_numu]==1))[0]]\n",
    "ind_nugen_numu_i2 = ind_nugen_numu[np.transpose(np.argwhere(\n",
    "    v_nugen['int_type'][ind_nugen_numu]==2))[0]]\n",
    "ind_nugen_anti_numu_i1 = ind_nugen_anti_numu[np.transpose(np.argwhere(\n",
    "    v_nugen['int_type'][ind_nugen_anti_numu]==1))[0]]\n",
    "ind_nugen_anti_numu_i2 = ind_nugen_anti_numu[np.transpose(np.argwhere(\n",
    "    v_nugen['int_type'][ind_nugen_anti_numu]==2))[0]]"
   ]
  },
  {
   "cell_type": "code",
   "execution_count": 22,
   "metadata": {},
   "outputs": [],
   "source": [
    "v_genie = []\n",
    "v_nugen = []"
   ]
  },
  {
   "cell_type": "markdown",
   "metadata": {},
   "source": [
    "# define type of cross section we are looking at in this notebook"
   ]
  },
  {
   "cell_type": "code",
   "execution_count": 23,
   "metadata": {},
   "outputs": [],
   "source": [
    "iNuCC_genie = ind_NuMu_CC_O_p_conc\n",
    "iNuBarCC_genie = ind_NuMu_Bar_CC_O_p_conc\n",
    "\n",
    "iNuCC_nugen = ind_nugen_numu_i1\n",
    "iNuBarCC_nugen = ind_nugen_anti_numu_i1\n",
    "\n",
    "iNuNC_genie = ind_NuMu_NC_O_p_conc\n",
    "iNuBarNC_genie = ind_NuMu_Bar_NC_O_p_conc\n",
    "\n",
    "iNuNC_nugen = ind_nugen_numu_i2\n",
    "iNuBarNC_nugen = ind_nugen_anti_numu_i2"
   ]
  },
  {
   "cell_type": "code",
   "execution_count": 24,
   "metadata": {},
   "outputs": [],
   "source": [
    "tNuCC = 'NuMu CC'\n",
    "tNuBarCC = 'NuMu Bar CC'\n",
    "tNuCC_save = 'NuMu_CC_'\n",
    "tNuBarCC_save = 'NuMu_Bar_CC_'\n",
    "\n",
    "tNuNC = 'NuMu NC'\n",
    "tNuBarNC = 'NuMu Bar NC'\n",
    "tNuNC_save = 'NuMu_NC_'\n",
    "tNuBarNC_save = 'NuMu_Bar_NC_'"
   ]
  },
  {
   "cell_type": "markdown",
   "metadata": {},
   "source": [
    "# save variables and indeces"
   ]
  },
  {
   "cell_type": "code",
   "execution_count": 25,
   "metadata": {},
   "outputs": [
    {
     "data": {
      "text/plain": [
       "21799503"
      ]
     },
     "execution_count": 25,
     "metadata": {},
     "output_type": "execute_result"
    }
   ],
   "source": [
    "len(lgE_genie)"
   ]
  },
  {
   "cell_type": "code",
   "execution_count": 26,
   "metadata": {},
   "outputs": [
    {
     "data": {
      "text/plain": [
       "50000000"
      ]
     },
     "execution_count": 26,
     "metadata": {},
     "output_type": "execute_result"
    }
   ],
   "source": [
    "len(lgE_nugen)"
   ]
  },
  {
   "cell_type": "code",
   "execution_count": 27,
   "metadata": {},
   "outputs": [],
   "source": [
    "np.save('../../../files/diff_xsec/diff_xsec_vals.npy', [{'lgE_genie':lgE_genie, 'Y_genie':Y_genie, \n",
    "                                  'lgE_nugen':lgE_nugen, 'Y_nugen':Y_nugen, \n",
    "                                  'one_weight_genie':one_weight0, 'one_weight_nugen':one_weight_nugen,\n",
    "                                  'iNuCC_genie':iNuCC_genie, 'iNuCC_nugen':iNuCC_nugen,\n",
    "                                  'iNuBarCC_genie':iNuBarCC_genie, 'iNuBarCC_nugen':iNuBarCC_nugen,\n",
    "                                  'iNuNC_genie':iNuNC_genie, 'iNuNC_nugen':iNuNC_nugen,\n",
    "                                  'iNuBarNC_genie':iNuBarNC_genie, 'iNuBarNC_nugen':iNuBarNC_nugen,}])"
   ]
  }
 ],
 "metadata": {
  "kernelspec": {
   "display_name": "Python 2",
   "language": "python",
   "name": "python2"
  },
  "language_info": {
   "codemirror_mode": {
    "name": "ipython",
    "version": 2
   },
   "file_extension": ".py",
   "mimetype": "text/x-python",
   "name": "python",
   "nbconvert_exporter": "python",
   "pygments_lexer": "ipython2",
   "version": "2.7.15+"
  }
 },
 "nbformat": 4,
 "nbformat_minor": 2
}
