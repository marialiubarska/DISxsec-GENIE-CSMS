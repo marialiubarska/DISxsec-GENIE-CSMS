{
 "cells": [
  {
   "cell_type": "code",
   "execution_count": 1,
   "metadata": {},
   "outputs": [],
   "source": [
    "import sys, os, copy\n",
    "\n",
    "import numpy as np\n",
    "import matplotlib as mpl\n",
    "from matplotlib.colors import LogNorm, Normalize\n",
    "import pylab\n",
    "import matplotlib.pyplot as plt\n",
    "from matplotlib import cm\n",
    "import matplotlib.gridspec as gridspec\n",
    "\n",
    "from scipy.optimize import curve_fit\n",
    "from scipy.stats import binned_statistic, chisquare\n",
    "from scipy.interpolate import interp2d, RectBivariateSpline\n",
    "from scipy.interpolate import SmoothBivariateSpline, LSQBivariateSpline\n",
    "\n",
    "import pickle\n",
    "import xml.etree.ElementTree as ET\n",
    "\n",
    "from general_func import read_my_npy\n",
    "\n",
    "%matplotlib inline\n",
    "plt.rcParams.update({'font.size': 20})"
   ]
  },
  {
   "cell_type": "code",
   "execution_count": 2,
   "metadata": {},
   "outputs": [],
   "source": [
    "np_load_old = np.load\n",
    "np.load = lambda *a,**k: np_load_old(*a, allow_pickle=True, **k)"
   ]
  },
  {
   "cell_type": "markdown",
   "metadata": {},
   "source": [
    "# constants"
   ]
  },
  {
   "cell_type": "code",
   "execution_count": 3,
   "metadata": {},
   "outputs": [],
   "source": [
    "Emin = 1.6 # min energy\n",
    "conv = 1e-27*0.389379304 # [GeV*cm^2]<-- conversion factor for xsec[GeV^-2] -> xsec[cm^2]\n",
    "ice_dens = 1.#  0.93 # g/cm^3\n",
    "\n",
    "pth_genie = '/home/maria/IceCube/crosssections/Genie/crosssec/genie_I3GENIEResultDict'\n",
    "pth_nugen = '/home/maria/IceCube/crosssections/NuGen/nugen_vars_1deg_flat_csms_NuMu.npy'\n",
    "\n",
    "global_save_path = '../../../files/tot_xsec/xsec_quick_start/'"
   ]
  },
  {
   "cell_type": "markdown",
   "metadata": {},
   "source": [
    "# read .npy files - full (takes long!)"
   ]
  },
  {
   "cell_type": "code",
   "execution_count": 4,
   "metadata": {},
   "outputs": [
    {
     "name": "stdout",
     "output_type": "stream",
     "text": [
      "file 0110.npy doesn`t exists \n",
      "file 0163.npy doesn`t exists \n"
     ]
    }
   ],
   "source": [
    "pref = ['{:0004d}'.format(i) for i in range(4,200)]\n",
    "v_genie = read_my_npy(pth_genie,'.npy',pref)\n",
    "\n",
    "v_nugen = np.load(pth_nugen)[0]"
   ]
  },
  {
   "cell_type": "code",
   "execution_count": 5,
   "metadata": {},
   "outputs": [],
   "source": [
    "for k in v_genie.keys():\n",
    "    v_genie[k] = np.array(v_genie[k])"
   ]
  },
  {
   "cell_type": "markdown",
   "metadata": {},
   "source": [
    "# selection (indeces)"
   ]
  },
  {
   "cell_type": "code",
   "execution_count": 6,
   "metadata": {},
   "outputs": [],
   "source": [
    "genie_sel_keys = {'dis':'is this DIS event',\n",
    "                'cc':'is this CC event',\n",
    "                'neu':'initial neutrino PDG code',\n",
    "                'hitnuc':'hit nucleon PDG code (p,n)',\n",
    "                'tgt':'nuclear target PDG code (10LZZZAAAI)',\n",
    "                'hitqrk':'hit quark PDG code (u,d,..)',\n",
    "                'sea':'was hit quark taken from sea',\n",
    "                'neut_code':'the equivalent NEUT reaction code',\n",
    "                'nik0':'number of ‘primary’ K0 and K0bar',\n",
    "                'niother':'number of other ‘primary’ hadron shower particles'}"
   ]
  },
  {
   "cell_type": "code",
   "execution_count": 7,
   "metadata": {},
   "outputs": [],
   "source": [
    "def sel_by_key(dict_arrs, keys, keys_vals):\n",
    "    ind0 = np.arange(0,len(dict_arrs[keys[0]]))\n",
    "    for i in range(len(keys)):\n",
    "        ind1 = np.transpose(np.argwhere(dict_arrs[keys[i]][ind0]==keys_vals[i]))[0]\n",
    "        ind0 = ind0[ind1]\n",
    "    return ind0"
   ]
  },
  {
   "cell_type": "code",
   "execution_count": 8,
   "metadata": {},
   "outputs": [],
   "source": [
    "def ind_nucl(hitnuc, A, nu_type, cc=True, v_g = v_genie):\n",
    "    \n",
    "    genie_sel_keys_list = ['dis',\n",
    "                            'cc',\n",
    "                            'neu',\n",
    "                            'hitnuc',\n",
    "                            'A',\n",
    "                            'hitqrk',\n",
    "                            'sea',\n",
    "                            'charm',\n",
    "]\n",
    "    \n",
    "    ind = []\n",
    "    for ch in [True,False]:\n",
    "        for sea in [True,False]:\n",
    "            for i in [-6,-5,-4,-3,-2,-1,1,2,3,4,5,6]:\n",
    "                    genie_sel_keys_vals = [True,\n",
    "                                          cc,\n",
    "                                          nu_type,\n",
    "                                          hitnuc,\n",
    "                                          A,\n",
    "                                          i,\n",
    "                                          sea,\n",
    "                                          ch,\n",
    "                                          ]\n",
    "                    ind.append(sel_by_key(v_g,genie_sel_keys_list,genie_sel_keys_vals))\n",
    "\n",
    "    return ind"
   ]
  },
  {
   "cell_type": "markdown",
   "metadata": {},
   "source": [
    "# neutrons"
   ]
  },
  {
   "cell_type": "code",
   "execution_count": 9,
   "metadata": {
    "scrolled": true
   },
   "outputs": [],
   "source": [
    "ind_NuMu_CC_O_n = ind_nucl(hitnuc=2112, A=16, nu_type=14, v_g = v_genie)\n",
    "ind_NuMu_NC_O_n = ind_nucl(hitnuc=2112, A=16, nu_type=14, cc=False, v_g = v_genie)\n",
    "ind_NuMu_Bar_CC_O_n = ind_nucl(hitnuc=2112, A=16, nu_type=-14, v_g = v_genie)\n",
    "ind_NuMu_Bar_NC_O_n = ind_nucl(hitnuc=2112, A=16, nu_type=-14, cc=False, v_g = v_genie)\n",
    "\n",
    "ind_NuMu_CC_O_n_conc = np.concatenate(ind_NuMu_CC_O_n)\n",
    "ind_NuMu_NC_O_n_conc = np.concatenate(ind_NuMu_NC_O_n)\n",
    "ind_NuMu_Bar_CC_O_n_conc = np.concatenate(ind_NuMu_Bar_CC_O_n)\n",
    "ind_NuMu_Bar_NC_O_n_conc = np.concatenate(ind_NuMu_Bar_NC_O_n)\n",
    "ind_all_conc_genie = np.concatenate((ind_NuMu_CC_O_n_conc,ind_NuMu_NC_O_n_conc,\n",
    "                                     ind_NuMu_Bar_CC_O_n_conc,ind_NuMu_Bar_NC_O_n_conc))"
   ]
  },
  {
   "cell_type": "code",
   "execution_count": 10,
   "metadata": {},
   "outputs": [],
   "source": [
    "v_genie_n = {}\n",
    "for k in v_genie.keys():\n",
    "    v_genie_n[k] = v_genie[k][ind_all_conc_genie]"
   ]
  },
  {
   "cell_type": "code",
   "execution_count": 11,
   "metadata": {},
   "outputs": [],
   "source": [
    "ind_NuMu_CC_O_n = ind_nucl(hitnuc=2112, A=16, nu_type=14, v_g = v_genie_n)\n",
    "ind_NuMu_NC_O_n = ind_nucl(hitnuc=2112, A=16, nu_type=14, cc=False, v_g = v_genie_n)\n",
    "ind_NuMu_Bar_CC_O_n = ind_nucl(hitnuc=2112, A=16, nu_type=-14, v_g = v_genie_n)\n",
    "ind_NuMu_Bar_NC_O_n = ind_nucl(hitnuc=2112, A=16, nu_type=-14, cc=False, v_g = v_genie_n)\n",
    "\n",
    "ind_NuMu_CC_O_n_conc = np.concatenate(ind_NuMu_CC_O_n)\n",
    "ind_NuMu_NC_O_n_conc = np.concatenate(ind_NuMu_NC_O_n)\n",
    "ind_NuMu_Bar_CC_O_n_conc = np.concatenate(ind_NuMu_Bar_CC_O_n)\n",
    "ind_NuMu_Bar_NC_O_n_conc = np.concatenate(ind_NuMu_Bar_NC_O_n)\n",
    "ind_all_conc_genie = np.concatenate((ind_NuMu_CC_O_n_conc,ind_NuMu_NC_O_n_conc,\n",
    "                                     ind_NuMu_Bar_CC_O_n_conc,ind_NuMu_Bar_NC_O_n_conc))"
   ]
  },
  {
   "cell_type": "code",
   "execution_count": 12,
   "metadata": {},
   "outputs": [],
   "source": [
    "np.save(os.path.join(global_save_path,'neutrons','genie_ind_n.npy'), \n",
    "        [{'NuMu_CC_O_n':ind_NuMu_CC_O_n, \n",
    "          'NuMu_NC_O_n':ind_NuMu_NC_O_n, \n",
    "          'NuMu_Bar_CC_O_n':ind_NuMu_Bar_CC_O_n, \n",
    "          'NuMu_Bar_NC_O_n':ind_NuMu_Bar_NC_O_n}])"
   ]
  },
  {
   "cell_type": "code",
   "execution_count": 13,
   "metadata": {},
   "outputs": [],
   "source": [
    "lgE_genie = np.log10(v_genie_n['Ev'])\n",
    "lgY_genie = np.log10(v_genie_n['y'])\n",
    "Y_genie = v_genie_n['y']\n",
    "xsec_E_genie = v_genie_n['xsec']/v_genie_n['Ev']*1.0e-38/8."
   ]
  },
  {
   "cell_type": "code",
   "execution_count": 14,
   "metadata": {},
   "outputs": [],
   "source": [
    "np.save(os.path.join(global_save_path,'neutrons','genie_totxsec_vars_n.npy'), [{'lgE':lgE_genie,\n",
    "                                                    'xsec_per_E':xsec_E_genie}])"
   ]
  },
  {
   "cell_type": "code",
   "execution_count": null,
   "metadata": {},
   "outputs": [],
   "source": []
  },
  {
   "cell_type": "markdown",
   "metadata": {},
   "source": [
    "# protons"
   ]
  },
  {
   "cell_type": "code",
   "execution_count": 21,
   "metadata": {
    "scrolled": true
   },
   "outputs": [],
   "source": [
    "ind_NuMu_CC_O_p = ind_nucl(hitnuc=2212, A=16, nu_type=14)\n",
    "ind_NuMu_NC_O_p = ind_nucl(hitnuc=2212, A=16, nu_type=14, cc=False)\n",
    "ind_NuMu_Bar_CC_O_p = ind_nucl(hitnuc=2212, A=16, nu_type=-14)\n",
    "ind_NuMu_Bar_NC_O_p = ind_nucl(hitnuc=2212, A=16, nu_type=-14, cc=False)\n",
    "\n",
    "ind_NuMu_CC_O_p_conc = np.concatenate(ind_NuMu_CC_O_p)\n",
    "ind_NuMu_NC_O_p_conc = np.concatenate(ind_NuMu_NC_O_p)\n",
    "ind_NuMu_Bar_CC_O_p_conc = np.concatenate(ind_NuMu_Bar_CC_O_p)\n",
    "ind_NuMu_Bar_NC_O_p_conc = np.concatenate(ind_NuMu_Bar_NC_O_p)\n",
    "ind_all_conc_genie = np.concatenate((ind_NuMu_CC_O_p_conc,ind_NuMu_NC_O_p_conc,\n",
    "                                     ind_NuMu_Bar_CC_O_p_conc,ind_NuMu_Bar_NC_O_p_conc))"
   ]
  },
  {
   "cell_type": "code",
   "execution_count": 22,
   "metadata": {},
   "outputs": [],
   "source": [
    "v_genie_p = {}\n",
    "for k in v_genie.keys():\n",
    "    v_genie_p[k] = v_genie[k][ind_all_conc_genie]"
   ]
  },
  {
   "cell_type": "code",
   "execution_count": 23,
   "metadata": {},
   "outputs": [],
   "source": [
    "ind_NuMu_CC_O_p = ind_nucl(hitnuc=2212, A=16, nu_type=14, v_g = v_genie_p)\n",
    "ind_NuMu_NC_O_p = ind_nucl(hitnuc=2212, A=16, nu_type=14, cc=False, v_g = v_genie_p)\n",
    "ind_NuMu_Bar_CC_O_p = ind_nucl(hitnuc=2212, A=16, nu_type=-14, v_g = v_genie_p)\n",
    "ind_NuMu_Bar_NC_O_p = ind_nucl(hitnuc=2212, A=16, nu_type=-14, cc=False, v_g = v_genie_p)\n",
    "\n",
    "ind_NuMu_CC_O_p_conc = np.concatenate(ind_NuMu_CC_O_p)\n",
    "ind_NuMu_NC_O_p_conc = np.concatenate(ind_NuMu_NC_O_p)\n",
    "ind_NuMu_Bar_CC_O_p_conc = np.concatenate(ind_NuMu_Bar_CC_O_p)\n",
    "ind_NuMu_Bar_NC_O_p_conc = np.concatenate(ind_NuMu_Bar_NC_O_p)\n",
    "ind_all_conc_genie = np.concatenate((ind_NuMu_CC_O_p_conc,ind_NuMu_NC_O_p_conc,\n",
    "                                     ind_NuMu_Bar_CC_O_p_conc,ind_NuMu_Bar_NC_O_p_conc))"
   ]
  },
  {
   "cell_type": "code",
   "execution_count": 24,
   "metadata": {},
   "outputs": [],
   "source": [
    "np.save(os.path.join(global_save_path,'protons','genie_ind_p.npy'), \n",
    "        [{'NuMu_CC_O_p':ind_NuMu_CC_O_p, \n",
    "          'NuMu_NC_O_p':ind_NuMu_NC_O_p, \n",
    "          'NuMu_Bar_CC_O_p':ind_NuMu_Bar_CC_O_p, \n",
    "          'NuMu_Bar_NC_O_p':ind_NuMu_Bar_NC_O_p}])"
   ]
  },
  {
   "cell_type": "code",
   "execution_count": 25,
   "metadata": {},
   "outputs": [],
   "source": [
    "lgE_genie = np.log10(v_genie_p['Ev'])\n",
    "lgY_genie = np.log10(v_genie_p['y'])\n",
    "Y_genie = v_genie_p['y']\n",
    "xsec_E_genie = v_genie_p['xsec']/v_genie_p['Ev']*1.0e-38/8."
   ]
  },
  {
   "cell_type": "code",
   "execution_count": 26,
   "metadata": {},
   "outputs": [],
   "source": [
    "np.save(os.path.join(global_save_path,'protons','genie_totxsec_vars_p.npy'), [{'lgE':lgE_genie,\n",
    "                                                    'xsec_per_E':xsec_E_genie}])"
   ]
  },
  {
   "cell_type": "code",
   "execution_count": null,
   "metadata": {},
   "outputs": [],
   "source": []
  }
 ],
 "metadata": {
  "kernelspec": {
   "display_name": "Python 2",
   "language": "python",
   "name": "python2"
  },
  "language_info": {
   "codemirror_mode": {
    "name": "ipython",
    "version": 2
   },
   "file_extension": ".py",
   "mimetype": "text/x-python",
   "name": "python",
   "nbconvert_exporter": "python",
   "pygments_lexer": "ipython2",
   "version": "2.7.15+"
  }
 },
 "nbformat": 4,
 "nbformat_minor": 2
}
