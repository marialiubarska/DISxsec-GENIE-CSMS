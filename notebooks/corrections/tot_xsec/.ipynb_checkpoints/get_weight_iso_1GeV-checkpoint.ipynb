{
 "cells": [
  {
   "cell_type": "code",
   "execution_count": 1,
   "metadata": {},
   "outputs": [],
   "source": [
    "import os\n",
    "import pickle\n",
    "import numpy as np\n",
    "np_load_old = np.load\n",
    "np.load = lambda *a,**k: np_load_old(*a, allow_pickle=True, **k)"
   ]
  },
  {
   "cell_type": "code",
   "execution_count": 2,
   "metadata": {},
   "outputs": [],
   "source": [
    "files_load_path = '../../../files/tot_xsec/tot_xsec_corrections/isoscalar/'\n",
    "files_save_path = '../../../files/tot_xsec/tot_xsec_corrections/'"
   ]
  },
  {
   "cell_type": "code",
   "execution_count": 3,
   "metadata": {},
   "outputs": [],
   "source": [
    "f_NuMu_CC_iso = np.load(os.path.join(files_load_path, '1GeV_interp_NuMu_CC_iso.npy'))[0]\n",
    "f_NuMu_NC_iso = np.load(os.path.join(files_load_path, '1GeV_interp_NuMu_NC_iso.npy'))[0]\n",
    "f_NuMu_Bar_CC_iso = np.load(os.path.join(files_load_path, '1GeV_interp_NuMu_Bar_CC_iso.npy'))[0]\n",
    "f_NuMu_Bar_NC_iso = np.load(os.path.join(files_load_path, '1GeV_interp_NuMu_Bar_NC_iso.npy'))[0]"
   ]
  },
  {
   "cell_type": "code",
   "execution_count": 4,
   "metadata": {},
   "outputs": [],
   "source": [
    "d_Nu = {'CC':f_NuMu_CC_iso, 'NC':f_NuMu_NC_iso}\n",
    "d_Nu_Bar = {'CC':f_NuMu_Bar_CC_iso, 'NC':f_NuMu_Bar_NC_iso}\n",
    "\n",
    "d = {'Nu':d_Nu, 'NuBar':d_Nu_Bar}"
   ]
  },
  {
   "cell_type": "code",
   "execution_count": 5,
   "metadata": {},
   "outputs": [
    {
     "data": {
      "text/plain": [
       "{'Nu': {'CC': {'c': 1.0594018527081692,\n",
       "   'lgE_min': 1.68,\n",
       "   'lgEmax': 4.0,\n",
       "   'linear': [-0.08501599678326312, 1.2010951806802745],\n",
       "   'poly_coef': array([-8.26255452e-03,  1.40696459e-01, -1.00066637e+00,  3.87131911e+00,\n",
       "          -8.90240144e+00,  1.24412465e+01, -1.01241499e+01,  4.86590240e+00])},\n",
       "  'NC': {'c': 0.9752585062310414,\n",
       "   'lgE_min': 1.68,\n",
       "   'lgEmax': 4.0,\n",
       "   'linear': [0.011354339928388925, 0.9563346063503931],\n",
       "   'poly_coef': array([-0.00450603,  0.07388766, -0.49432291,  1.74078065, -3.48642153,\n",
       "           4.02846891, -2.57603198,  1.72181446])}},\n",
       " 'NuBar': {'CC': {'c': 1.2284160691275534,\n",
       "   'lgE_min': 1.68,\n",
       "   'lgEmax': 4.0,\n",
       "   'linear': [-0.23886804249744809, 1.6265294732899669],\n",
       "   'poly_coef': array([ 5.25985506e-03, -9.29735321e-02,  6.83445902e-01, -2.66991183e+00,\n",
       "           5.77551244e+00, -6.24919762e+00,  1.80055957e+00,  2.46445277e+00])},\n",
       "  'NC': {'c': 1.0482225145944029,\n",
       "   'lgE_min': 1.68,\n",
       "   'lgEmax': 4.0,\n",
       "   'linear': [-0.03325057289338977, 1.1036401360833858],\n",
       "   'poly_coef': array([ 4.53286465e-03, -8.75374273e-02,  7.11911752e-01, -3.13926373e+00,\n",
       "           8.01463155e+00, -1.16332320e+01,  8.64575250e+00, -1.36998477e+00])}}}"
      ]
     },
     "execution_count": 5,
     "metadata": {},
     "output_type": "execute_result"
    }
   ],
   "source": [
    "d"
   ]
  },
  {
   "cell_type": "code",
   "execution_count": 6,
   "metadata": {},
   "outputs": [],
   "source": [
    "fo = open(os.path.join(files_save_path, 'tot_xsec_corr_Q2min1GeV_isoscalar.pckl'),'wb')\n",
    "pickle.dump(d,fo) \n",
    "fo.close()"
   ]
  },
  {
   "cell_type": "code",
   "execution_count": 7,
   "metadata": {},
   "outputs": [],
   "source": [
    "np.save(os.path.join(files_save_path, 'tot_xsec_corr_Q2min1GeV_isoscalar.pckl'),[d])"
   ]
  }
 ],
 "metadata": {
  "kernelspec": {
   "display_name": "Python 2",
   "language": "python",
   "name": "python2"
  },
  "language_info": {
   "codemirror_mode": {
    "name": "ipython",
    "version": 2
   },
   "file_extension": ".py",
   "mimetype": "text/x-python",
   "name": "python",
   "nbconvert_exporter": "python",
   "pygments_lexer": "ipython2",
   "version": "2.7.15+"
  }
 },
 "nbformat": 4,
 "nbformat_minor": 2
}
